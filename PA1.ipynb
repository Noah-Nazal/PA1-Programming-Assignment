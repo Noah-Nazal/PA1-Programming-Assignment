{
 "cells": [
  {
   "cell_type": "code",
   "execution_count": 17,
   "id": "644447ef-5d6f-4902-a6a9-09fc8529f963",
   "metadata": {},
   "outputs": [
    {
     "name": "stdin",
     "output_type": "stream",
     "text": [
      "Enter a string: Birthday\n"
     ]
    },
    {
     "name": "stdout",
     "output_type": "stream",
     "text": [
      "Badhirty\n"
     ]
    }
   ],
   "source": [
    "# Input of word\n",
    "x = input(\"Enter a string:\")\n",
    "\n",
    "# Sorting word alphabetically\n",
    "x_sorted = sorted(x)\n",
    "\n",
    "# Output of sorted word\n",
    "alpha_sorted = \"\".join(x_sorted)\n",
    "print(alpha_sorted)"
   ]
  },
  {
   "cell_type": "code",
   "execution_count": 22,
   "id": "013b3494-bbc2-44fe-a921-2f22abad9ea2",
   "metadata": {},
   "outputs": [
    {
     "name": "stdin",
     "output_type": "stream",
     "text": [
      "Enter a sentence:  The brightest smile hides the most painful thought\n"
     ]
    },
    {
     "name": "stdout",
     "output_type": "stream",
     "text": [
      "The brightest :) hides the most painful thought\n"
     ]
    }
   ],
   "source": [
    "def emoticon(sentence):\n",
    "    # Make dictionary for word-emoticon equivalents\n",
    "    replacements = {\n",
    "        \"smile\": \":)\",\n",
    "        \"grin\": \":D\",\n",
    "        \"sad\": \":((\",\n",
    "        \"mad\": \">:(\"\n",
    "    }\n",
    "\n",
    "    # Temporary storage of characters\n",
    "    word = \"\"\n",
    "    result = \"\"\n",
    "\n",
    "    for ch in sentence:\n",
    "        if ch != \" \":\n",
    "            word += ch\n",
    "        else:\n",
    "            # Process word when space is found\n",
    "            if word in replacements:\n",
    "                result += replacements[word]\n",
    "            else:\n",
    "                result += word\n",
    "            result += \" \"\n",
    "            word = \"\"\n",
    "\n",
    "    # After the loop, process the last word\n",
    "    if word != \"\":\n",
    "        if word in replacements:\n",
    "            result += replacements[word]\n",
    "        else:\n",
    "            result += word\n",
    "\n",
    "    return result\n",
    "\n",
    "\n",
    "# Example:\n",
    "x = input(\"Enter a sentence: \")\n",
    "print(emoticon(x))"
   ]
  },
  {
   "cell_type": "code",
   "execution_count": 25,
   "id": "7a6f59be-49a9-4c6b-8812-b42c2132d7ad",
   "metadata": {},
   "outputs": [
    {
     "name": "stdout",
     "output_type": "stream",
     "text": [
      "first: 1\n",
      "middle: [2, 3, 4, 5]\n",
      "last: 6\n"
     ]
    }
   ],
   "source": [
    "# Starting list\n",
    "writeyourcodehere = [1, 2, 3, 4, 5, 6]\n",
    "\n",
    "# Breaking into segments\n",
    "first, *middle, last = writeyourcodehere\n",
    "\n",
    "# Output\n",
    "print(\"first:\", first)\n",
    "print(\"middle:\", middle)\n",
    "print(\"last:\", last)"
   ]
  },
  {
   "cell_type": "code",
   "execution_count": null,
   "id": "cb32aa9b-154f-4213-8873-b7758cf49eed",
   "metadata": {},
   "outputs": [],
   "source": []
  }
 ],
 "metadata": {
  "kernelspec": {
   "display_name": "Python 3 (ipykernel)",
   "language": "python",
   "name": "python3"
  },
  "language_info": {
   "codemirror_mode": {
    "name": "ipython",
    "version": 3
   },
   "file_extension": ".py",
   "mimetype": "text/x-python",
   "name": "python",
   "nbconvert_exporter": "python",
   "pygments_lexer": "ipython3",
   "version": "3.13.5"
  }
 },
 "nbformat": 4,
 "nbformat_minor": 5
}
